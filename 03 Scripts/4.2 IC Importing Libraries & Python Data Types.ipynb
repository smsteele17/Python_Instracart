{
 "cells": [
  {
   "cell_type": "code",
   "execution_count": 1,
   "id": "d1f1522b",
   "metadata": {},
   "outputs": [],
   "source": [
    "# Import libraries\n",
    "import pandas as pd\n",
    "import numpy as np\n",
    "import os"
   ]
  },
  {
   "cell_type": "code",
   "execution_count": 37,
   "id": "8db8bf1b",
   "metadata": {},
   "outputs": [],
   "source": [
    "##Working with Python Data Types"
   ]
  },
  {
   "cell_type": "code",
   "execution_count": 44,
   "id": "e347f293",
   "metadata": {},
   "outputs": [],
   "source": [
    "a = 10"
   ]
  },
  {
   "cell_type": "code",
   "execution_count": 45,
   "id": "b6a35df1",
   "metadata": {},
   "outputs": [],
   "source": [
    "b = 15"
   ]
  },
  {
   "cell_type": "code",
   "execution_count": 50,
   "id": "0254cf37",
   "metadata": {},
   "outputs": [],
   "source": [
    "c = 5"
   ]
  },
  {
   "cell_type": "code",
   "execution_count": 57,
   "id": "27fc8902",
   "metadata": {},
   "outputs": [
    {
     "data": {
      "text/plain": [
       "100"
      ]
     },
     "execution_count": 57,
     "metadata": {},
     "output_type": "execute_result"
    }
   ],
   "source": [
    "(a + b + b + c + c) * 2"
   ]
  },
  {
   "cell_type": "code",
   "execution_count": 38,
   "id": "5b4cfdaa",
   "metadata": {},
   "outputs": [],
   "source": [
    "y = 500\n"
   ]
  },
  {
   "cell_type": "code",
   "execution_count": 39,
   "id": "f2c7947f",
   "metadata": {},
   "outputs": [
    {
     "data": {
      "text/plain": [
       "100.0"
      ]
     },
     "execution_count": 39,
     "metadata": {},
     "output_type": "execute_result"
    }
   ],
   "source": [
    "y / 5"
   ]
  },
  {
   "cell_type": "code",
   "execution_count": 33,
   "id": "2543e086",
   "metadata": {},
   "outputs": [],
   "source": [
    "x = 50\n"
   ]
  },
  {
   "cell_type": "code",
   "execution_count": 34,
   "id": "ec7a04d4",
   "metadata": {},
   "outputs": [
    {
     "data": {
      "text/plain": [
       "100"
      ]
     },
     "execution_count": 34,
     "metadata": {},
     "output_type": "execute_result"
    }
   ],
   "source": [
    "x + x"
   ]
  },
  {
   "cell_type": "code",
   "execution_count": 58,
   "id": "9cafef54",
   "metadata": {},
   "outputs": [],
   "source": [
    "d = 4.445"
   ]
  },
  {
   "cell_type": "code",
   "execution_count": 59,
   "id": "abb7b3b0",
   "metadata": {},
   "outputs": [],
   "source": [
    "e = 188.523"
   ]
  },
  {
   "cell_type": "code",
   "execution_count": 61,
   "id": "ec9561b4",
   "metadata": {},
   "outputs": [
    {
     "data": {
      "text/plain": [
       "42.41237345331833"
      ]
     },
     "execution_count": 61,
     "metadata": {},
     "output_type": "execute_result"
    }
   ],
   "source": [
    "e / d"
   ]
  },
  {
   "cell_type": "code",
   "execution_count": 62,
   "id": "7b2647ae",
   "metadata": {},
   "outputs": [],
   "source": [
    "f = 'back'"
   ]
  },
  {
   "cell_type": "code",
   "execution_count": 77,
   "id": "a520846f",
   "metadata": {},
   "outputs": [],
   "source": [
    "g = 'yard '\n"
   ]
  },
  {
   "cell_type": "code",
   "execution_count": 64,
   "id": "15364f41",
   "metadata": {},
   "outputs": [
    {
     "data": {
      "text/plain": [
       "'backyard'"
      ]
     },
     "execution_count": 64,
     "metadata": {},
     "output_type": "execute_result"
    }
   ],
   "source": [
    "f + g"
   ]
  },
  {
   "cell_type": "code",
   "execution_count": 75,
   "id": "9147c245",
   "metadata": {},
   "outputs": [],
   "source": [
    "h = 'My '"
   ]
  },
  {
   "cell_type": "code",
   "execution_count": 76,
   "id": "6335cabd",
   "metadata": {},
   "outputs": [],
   "source": [
    "i = 'has a lot of '"
   ]
  },
  {
   "cell_type": "code",
   "execution_count": 80,
   "id": "eb670fe9",
   "metadata": {},
   "outputs": [],
   "source": [
    "j = 'leaves. '"
   ]
  },
  {
   "cell_type": "code",
   "execution_count": 84,
   "id": "a6144196",
   "metadata": {},
   "outputs": [],
   "source": [
    "k = 'My dog Koda, '"
   ]
  },
  {
   "cell_type": "code",
   "execution_count": 71,
   "id": "b58bc844",
   "metadata": {},
   "outputs": [],
   "source": [
    "l = 'LOVES '"
   ]
  },
  {
   "cell_type": "code",
   "execution_count": 72,
   "id": "959cf037",
   "metadata": {},
   "outputs": [],
   "source": [
    "m = 'to run '"
   ]
  },
  {
   "cell_type": "code",
   "execution_count": 73,
   "id": "025fdcb1",
   "metadata": {},
   "outputs": [],
   "source": [
    "n = 'around in them.'"
   ]
  },
  {
   "cell_type": "code",
   "execution_count": 85,
   "id": "1a605a7e",
   "metadata": {},
   "outputs": [
    {
     "data": {
      "text/plain": [
       "'My backyard has a lot of leaves. My dog Koda, LOVES to run around in them.'"
      ]
     },
     "execution_count": 85,
     "metadata": {},
     "output_type": "execute_result"
    }
   ],
   "source": [
    "h + f + g + i + j + k + l + m + n"
   ]
  },
  {
   "cell_type": "code",
   "execution_count": 86,
   "id": "5f6c533f",
   "metadata": {},
   "outputs": [
    {
     "data": {
      "text/plain": [
       "'backyard backyard backyard backyard backyard backyard backyard backyard backyard backyard backyard backyard backyard backyard backyard backyard backyard backyard backyard backyard backyard backyard backyard backyard backyard backyard backyard backyard backyard backyard backyard backyard backyard backyard backyard backyard backyard backyard backyard backyard backyard backyard backyard backyard backyard backyard backyard backyard backyard backyard backyard backyard backyard backyard backyard backyard backyard backyard backyard backyard backyard backyard backyard backyard backyard backyard backyard backyard backyard backyard backyard backyard backyard backyard backyard backyard backyard backyard backyard backyard backyard backyard backyard backyard backyard backyard backyard backyard backyard backyard backyard backyard backyard backyard backyard backyard backyard backyard backyard backyard '"
      ]
     },
     "execution_count": 86,
     "metadata": {},
     "output_type": "execute_result"
    }
   ],
   "source": [
    "(f + g) * 100"
   ]
  },
  {
   "cell_type": "code",
   "execution_count": null,
   "id": "8fada854",
   "metadata": {},
   "outputs": [],
   "source": []
  }
 ],
 "metadata": {
  "kernelspec": {
   "display_name": "Python 3 (ipykernel)",
   "language": "python",
   "name": "python3"
  },
  "language_info": {
   "codemirror_mode": {
    "name": "ipython",
    "version": 3
   },
   "file_extension": ".py",
   "mimetype": "text/x-python",
   "name": "python",
   "nbconvert_exporter": "python",
   "pygments_lexer": "ipython3",
   "version": "3.9.12"
  }
 },
 "nbformat": 4,
 "nbformat_minor": 5
}
